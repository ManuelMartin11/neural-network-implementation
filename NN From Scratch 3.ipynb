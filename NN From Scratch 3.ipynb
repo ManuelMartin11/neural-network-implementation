{
 "cells": [
  {
   "cell_type": "code",
   "execution_count": 1,
   "metadata": {},
   "outputs": [],
   "source": [
    "import matplotlib.pyplot as plt\n",
    "import numpy as np\n",
    "from sklearn.datasets import make_blobs\n",
    "from nn import ShallowFeedForwardNeuralNetwork"
   ]
  },
  {
   "cell_type": "code",
   "execution_count": 2,
   "metadata": {},
   "outputs": [],
   "source": [
    "nn = ShallowFeedForwardNeuralNetwork(hidden_size=(2, 120), output_size=(120, 1), lr=0.001)"
   ]
  },
  {
   "cell_type": "code",
   "execution_count": 10,
   "metadata": {},
   "outputs": [],
   "source": [
    "X, y = make_blobs(centers=2, n_features=2, random_state=11)"
   ]
  },
  {
   "cell_type": "code",
   "execution_count": 11,
   "metadata": {},
   "outputs": [
    {
     "data": {
      "image/png": "[encoded data removed]",
      "text/plain": [
       "<Figure size 432x288 with 1 Axes>"
      ]
     },
     "metadata": {
      "needs_background": "light"
     },
     "output_type": "display_data"
    }
   ],
   "source": [
    "plt.scatter(X[:, 0], X[:, 1], c=y)\n",
    "plt.show()"
   ]
  },
  {
   "cell_type": "code",
   "execution_count": 12,
   "metadata": {},
   "outputs": [],
   "source": [
    "nn.train(X, y, 5)"
   ]
  },
  {
   "cell_type": "code",
   "execution_count": 13,
   "metadata": {},
   "outputs": [],
   "source": [
    "ypred = nn.forward(X)"
   ]
  },
  {
   "cell_type": "code",
   "execution_count": 14,
   "metadata": {},
   "outputs": [
    {
     "data": {
      "text/plain": [
       "0.97"
      ]
     },
     "execution_count": 14,
     "metadata": {},
     "output_type": "execute_result"
    }
   ],
   "source": [
    "(np.around(ypred) == y).mean()"
   ]
  },
  {
   "cell_type": "code",
   "execution_count": 329,
   "metadata": {},
   "outputs": [],
   "source": [
    "import numpy as np\n",
    "import tqdm\n",
    "\n",
    "\n",
    "class MLNN:\n",
    "    \n",
    "    def __init__(self, layers_sizes):\n",
    "        self.layers_sizes = [self.set_bias_as_weight(sh) for sh in layers_sizes]\n",
    "        self.layers = self.initialize_layer_weights()\n",
    "        self.lr = 0.002\n",
    "\n",
    "    @staticmethod\n",
    "    def he_initialize(shape):\n",
    "        he = np.random.normal(loc=0, scale=np.sqrt(1 / shape[0]))\n",
    "        return he * np.random.randn(*shape)\n",
    "\n",
    "    @staticmethod\n",
    "    def set_bias_as_weight(shape):\n",
    "        return shape[0] + 1, shape[1]\n",
    "\n",
    "    @staticmethod\n",
    "    def absorb_bias(vector):\n",
    "        return np.hstack([vector, np.ones((vector.shape[0], 1))])\n",
    "\n",
    "    @staticmethod\n",
    "    def sigmoid(z):\n",
    "        return 1 / (1 + np.exp(-z))\n",
    "\n",
    "    def initialize_layer_weights(self):\n",
    "        layers = []\n",
    "        for size in self.layers_sizes:\n",
    "            layers.append(self.he_initialize(size))\n",
    "        return layers\n",
    "\n",
    "    def _forward_layer(self, layer, x):\n",
    "        x = self.absorb_bias(x)\n",
    "        z = np.dot(x, layer)\n",
    "        y = self.sigmoid(z)\n",
    "        return y\n",
    "\n",
    "    def _forward_layers(self, x):\n",
    "        layer_forwards = [x]\n",
    "        for layer in self.layers:\n",
    "            x = self._forward_layer(layer, x)\n",
    "            layer_forwards.append(x)\n",
    "        return layer_forwards\n",
    "\n",
    "    def forward(self, x):\n",
    "        for layer in self.layers:\n",
    "            x = self._forward_layer(layer, x)\n",
    "        return x\n",
    "    \n",
    "    def backward_output(self, layer_forwards, ytrue):\n",
    "        delta = (layer_forwards[-1] - ytrue) * layer_forwards[-1] * (1 - layer_forwards[-1])\n",
    "        weights_vars = (1 / layer_forwards[-1].shape[0]) * np.dot(delta.T, layer_forwards[-2])\n",
    "        return delta, weights_vars\n",
    "\n",
    "    def _backward_layer(self, dH, layerO, yH):\n",
    "        # y_o = sigma( theta_oh * y_h )\n",
    "        yO = self._forward_layer(layerO, yH)\n",
    "        yH = self.absorb_bias(yH)\n",
    "\n",
    "        delta = dH * layerO.T * yO * yO\n",
    "        weights_var = (1 / yO.shape[0]) * np.dot(delta[:, :-1].T, yH)\n",
    "        return delta, weights_var\n",
    "\n",
    "    def backward(self, x, ytrue):\n",
    "        m = ytrue.shape[0]\n",
    "        \n",
    "        # [x, yh1, yh2, y_pred]\n",
    "        lforwards = self._forward_layers(x)\n",
    "        dh, wv = self.backward_output(lforwards, ytrue)\n",
    "        \n",
    "        wvs = [wv]\n",
    "        \n",
    "        # 3, 2, 1, 0\n",
    "        for i in enumerate(range(len(self.layers), 0, -1)):\n",
    "            # dh = d0 * theta_h * y_h2 * (1 - y_h2)\n",
    "            dh = self._backward_layer(dh, self.layers[i + 1], lforwards[i] )\n",
    "            wv = (1 / m) * self.layers[i]\n",
    "            wvs.append(wv)\n"
   ]
  },
  {
   "cell_type": "markdown",
   "metadata": {},
   "source": [
    "### Multilayer Neural Network"
   ]
  },
  {
   "cell_type": "code",
   "execution_count": 293,
   "metadata": {},
   "outputs": [],
   "source": [
    "import matplotlib.pyplot as plt\n",
    "import numpy as np\n",
    "#from multi_layer_nn import MultilayerNeuralNetwork\n",
    "from sklearn.datasets import make_blobs"
   ]
  },
  {
   "cell_type": "code",
   "execution_count": 294,
   "metadata": {},
   "outputs": [],
   "source": [
    "X, y = make_blobs(centers=2, n_features=2, random_state=10)"
   ]
  },
  {
   "cell_type": "code",
   "execution_count": 295,
   "metadata": {},
   "outputs": [],
   "source": [
    "layers_sizes = [\n",
    "    (2, 10),\n",
    "    (10, 10),\n",
    "    (10, 1)\n",
    "]"
   ]
  },
  {
   "cell_type": "markdown",
   "metadata": {},
   "source": [
    "> Check if forward propagation is ok"
   ]
  },
  {
   "cell_type": "code",
   "execution_count": 330,
   "metadata": {},
   "outputs": [],
   "source": [
    "mnn = MLNN(layers_sizes)"
   ]
  },
  {
   "cell_type": "code",
   "execution_count": 306,
   "metadata": {},
   "outputs": [
    {
     "data": {
      "text/plain": [
       "array([[9.99977548e-01, 1.25849449e-01, 7.51191170e-01, 9.99465163e-01,\n",
       "        3.01010685e-03, 1.12581855e-02, 9.96213048e-01, 3.69984760e-07,\n",
       "        1.38275916e-06, 1.72655559e-04]])"
      ]
     },
     "execution_count": 306,
     "metadata": {},
     "output_type": "execute_result"
    }
   ],
   "source": [
    "y0 = mnn._forward_layer(mnn.layers[0], X[0].reshape(1,-1))\n",
    "y0"
   ]
  },
  {
   "cell_type": "code",
   "execution_count": 307,
   "metadata": {},
   "outputs": [
    {
     "data": {
      "text/plain": [
       "array([[0.35397736, 0.75947695, 0.60060936, 0.55070242, 0.70818419,\n",
       "        0.37680938, 0.57216438, 0.45983955, 0.69506831, 0.60285845]])"
      ]
     },
     "execution_count": 307,
     "metadata": {},
     "output_type": "execute_result"
    }
   ],
   "source": [
    "y1 = mnn._forward_layer(mnn.layers[1], y0)\n",
    "y1"
   ]
  },
  {
   "cell_type": "code",
   "execution_count": 308,
   "metadata": {},
   "outputs": [
    {
     "data": {
      "text/plain": [
       "0.5192677977148098"
      ]
     },
     "execution_count": 308,
     "metadata": {},
     "output_type": "execute_result"
    }
   ],
   "source": [
    "y2 = mnn._forward_layer(mnn.layers[2], y1)\n",
    "y2[0][0]"
   ]
  },
  {
   "cell_type": "code",
   "execution_count": 309,
   "metadata": {},
   "outputs": [],
   "source": [
    "forwards = mnn._forward_layers(X[0].reshape(1, -1))"
   ]
  },
  {
   "cell_type": "code",
   "execution_count": 310,
   "metadata": {},
   "outputs": [
    {
     "data": {
      "text/plain": [
       "[array([[3.67982584, 4.68165164]]),\n",
       " array([[9.99977548e-01, 1.25849449e-01, 7.51191170e-01, 9.99465163e-01,\n",
       "         3.01010685e-03, 1.12581855e-02, 9.96213048e-01, 3.69984760e-07,\n",
       "         1.38275916e-06, 1.72655559e-04]]),\n",
       " array([[0.35397736, 0.75947695, 0.60060936, 0.55070242, 0.70818419,\n",
       "         0.37680938, 0.57216438, 0.45983955, 0.69506831, 0.60285845]]),\n",
       " array([[0.5192678]])]"
      ]
     },
     "execution_count": 310,
     "metadata": {},
     "output_type": "execute_result"
    }
   ],
   "source": [
    "forwards"
   ]
  },
  {
   "cell_type": "code",
   "execution_count": 311,
   "metadata": {},
   "outputs": [
    {
     "data": {
      "text/plain": [
       "(11, 10)"
      ]
     },
     "execution_count": 311,
     "metadata": {},
     "output_type": "execute_result"
    }
   ],
   "source": [
    "mnn.layers[-2].shape"
   ]
  },
  {
   "cell_type": "code",
   "execution_count": 312,
   "metadata": {},
   "outputs": [
    {
     "ename": "TypeError",
     "evalue": "can only concatenate tuple (not \"int\") to tuple",
     "output_type": "error",
     "traceback": [
      "\u001b[0;31m---------------------------------------------------------------------------\u001b[0m",
      "\u001b[0;31mTypeError\u001b[0m                                 Traceback (most recent call last)",
      "\u001b[0;32m<ipython-input-312-d9d8a98dd8fb>\u001b[0m in \u001b[0;36m<module>\u001b[0;34m\u001b[0m\n\u001b[0;32m----> 1\u001b[0;31m \u001b[0mmnn\u001b[0m\u001b[0;34m.\u001b[0m\u001b[0mbackward\u001b[0m\u001b[0;34m(\u001b[0m\u001b[0mX\u001b[0m\u001b[0;34m,\u001b[0m \u001b[0my\u001b[0m\u001b[0;34m)\u001b[0m\u001b[0;34m\u001b[0m\u001b[0m\n\u001b[0m",
      "\u001b[0;32m<ipython-input-304-47a7d4374539>\u001b[0m in \u001b[0;36mbackward\u001b[0;34m(self, x, ytrue)\u001b[0m\n\u001b[1;32m     77\u001b[0m         \u001b[0;32mfor\u001b[0m \u001b[0mi\u001b[0m \u001b[0;32min\u001b[0m \u001b[0menumerate\u001b[0m\u001b[0;34m(\u001b[0m\u001b[0mrange\u001b[0m\u001b[0;34m(\u001b[0m\u001b[0mlen\u001b[0m\u001b[0;34m(\u001b[0m\u001b[0mself\u001b[0m\u001b[0;34m.\u001b[0m\u001b[0mlayers\u001b[0m\u001b[0;34m)\u001b[0m\u001b[0;34m,\u001b[0m \u001b[0;36m0\u001b[0m\u001b[0;34m,\u001b[0m \u001b[0;34m-\u001b[0m\u001b[0;36m1\u001b[0m\u001b[0;34m)\u001b[0m\u001b[0;34m)\u001b[0m\u001b[0;34m:\u001b[0m\u001b[0;34m\u001b[0m\u001b[0m\n\u001b[1;32m     78\u001b[0m             \u001b[0;31m# dh = d0 * theta_h * y_h2 * (1 - y_h2)\u001b[0m\u001b[0;34m\u001b[0m\u001b[0;34m\u001b[0m\u001b[0m\n\u001b[0;32m---> 79\u001b[0;31m             \u001b[0mdh\u001b[0m \u001b[0;34m=\u001b[0m \u001b[0mself\u001b[0m\u001b[0;34m.\u001b[0m\u001b[0m_backward_layer\u001b[0m\u001b[0;34m(\u001b[0m\u001b[0mdh\u001b[0m\u001b[0;34m,\u001b[0m \u001b[0mself\u001b[0m\u001b[0;34m.\u001b[0m\u001b[0mlayers\u001b[0m\u001b[0;34m[\u001b[0m\u001b[0mi\u001b[0m \u001b[0;34m+\u001b[0m \u001b[0;36m1\u001b[0m\u001b[0;34m]\u001b[0m\u001b[0;34m,\u001b[0m \u001b[0mlforwards\u001b[0m\u001b[0;34m[\u001b[0m\u001b[0mi\u001b[0m\u001b[0;34m]\u001b[0m \u001b[0;34m)\u001b[0m\u001b[0;34m\u001b[0m\u001b[0m\n\u001b[0m\u001b[1;32m     80\u001b[0m             \u001b[0mwv\u001b[0m \u001b[0;34m=\u001b[0m \u001b[0;34m(\u001b[0m\u001b[0;36m1\u001b[0m \u001b[0;34m/\u001b[0m \u001b[0mm\u001b[0m\u001b[0;34m)\u001b[0m \u001b[0;34m*\u001b[0m \u001b[0mself\u001b[0m\u001b[0;34m.\u001b[0m\u001b[0mlayers\u001b[0m\u001b[0;34m[\u001b[0m\u001b[0mi\u001b[0m\u001b[0;34m]\u001b[0m\u001b[0;34m\u001b[0m\u001b[0m\n\u001b[1;32m     81\u001b[0m             \u001b[0mwvs\u001b[0m\u001b[0;34m.\u001b[0m\u001b[0mappend\u001b[0m\u001b[0;34m(\u001b[0m\u001b[0mwv\u001b[0m\u001b[0;34m)\u001b[0m\u001b[0;34m\u001b[0m\u001b[0m\n",
      "\u001b[0;31mTypeError\u001b[0m: can only concatenate tuple (not \"int\") to tuple"
     ]
    }
   ],
   "source": [
    "mnn.backward(X, y)"
   ]
  },
  {
   "cell_type": "code",
   "execution_count": 313,
   "metadata": {},
   "outputs": [
    {
     "data": {
      "text/plain": [
       "<__main__.MLNN at 0x12cb61b38>"
      ]
     },
     "execution_count": 313,
     "metadata": {},
     "output_type": "execute_result"
    }
   ],
   "source": [
    "mnn"
   ]
  },
  {
   "cell_type": "code",
   "execution_count": 331,
   "metadata": {},
   "outputs": [],
   "source": [
    "ytrue = y.reshape(-1,1)\n",
    "m = ytrue.shape[0]\n",
    "        \n",
    "        # [x, yh1, yh2, y_pred]\n",
    "lforwards = mnn._forward_layers(X)\n",
    "dh, wv = mnn.backward_output(lforwards, ytrue)\n",
    "        \n",
    "wvs = [wv]"
   ]
  },
  {
   "cell_type": "code",
   "execution_count": 332,
   "metadata": {},
   "outputs": [
    {
     "data": {
      "text/plain": [
       "(1, 10)"
      ]
     },
     "execution_count": 332,
     "metadata": {},
     "output_type": "execute_result"
    }
   ],
   "source": [
    "wvs[0].shape"
   ]
  },
  {
   "cell_type": "code",
   "execution_count": null,
   "metadata": {},
   "outputs": [],
   "source": [
    "for i in enumerate(range(len(mnn.layers), 0, -1)):\n",
    "    # dh = d0 * theta_h * y_h2 * (1 - y_h2)\n",
    "    dh = mnn._backward_layer(dh, mnn.layers[i + 1], lforwards[i] )\n",
    "    wv = (1 / m) * nn.layers[i]\n",
    "    wvs.append(wv)"
   ]
  },
  {
   "cell_type": "code",
   "execution_count": 323,
   "metadata": {},
   "outputs": [
    {
     "data": {
      "text/plain": [
       "[(3, 10), (11, 10), (11, 1)]"
      ]
     },
     "execution_count": 323,
     "metadata": {},
     "output_type": "execute_result"
    }
   ],
   "source": [
    "[s.shape for s in mnn.layers]"
   ]
  },
  {
   "cell_type": "code",
   "execution_count": 335,
   "metadata": {},
   "outputs": [],
   "source": [
    "dh2, wv2 = mnn._backward_layer(dh, mnn.layers[2], lforwards[2])"
   ]
  },
  {
   "cell_type": "code",
   "execution_count": 338,
   "metadata": {},
   "outputs": [
    {
     "data": {
      "text/plain": [
       "((100, 11), (10, 11))"
      ]
     },
     "execution_count": 338,
     "metadata": {},
     "output_type": "execute_result"
    }
   ],
   "source": [
    "dh2.shape, wv2.shape"
   ]
  },
  {
   "cell_type": "code",
   "execution_count": 339,
   "metadata": {},
   "outputs": [
    {
     "ename": "ValueError",
     "evalue": "operands could not be broadcast together with shapes (100,11) (10,11) ",
     "output_type": "error",
     "traceback": [
      "\u001b[0;31m---------------------------------------------------------------------------\u001b[0m",
      "\u001b[0;31mValueError\u001b[0m                                Traceback (most recent call last)",
      "\u001b[0;32m<ipython-input-339-8d1139046b23>\u001b[0m in \u001b[0;36m<module>\u001b[0;34m\u001b[0m\n\u001b[0;32m----> 1\u001b[0;31m \u001b[0mdh1\u001b[0m\u001b[0;34m,\u001b[0m \u001b[0mwv1\u001b[0m \u001b[0;34m=\u001b[0m \u001b[0mmnn\u001b[0m\u001b[0;34m.\u001b[0m\u001b[0m_backward_layer\u001b[0m\u001b[0;34m(\u001b[0m\u001b[0mdh2\u001b[0m\u001b[0;34m,\u001b[0m \u001b[0mmnn\u001b[0m\u001b[0;34m.\u001b[0m\u001b[0mlayers\u001b[0m\u001b[0;34m[\u001b[0m\u001b[0;36m1\u001b[0m\u001b[0;34m]\u001b[0m\u001b[0;34m,\u001b[0m \u001b[0mlforwards\u001b[0m\u001b[0;34m[\u001b[0m\u001b[0;36m1\u001b[0m\u001b[0;34m]\u001b[0m\u001b[0;34m)\u001b[0m\u001b[0;34m\u001b[0m\u001b[0m\n\u001b[0m",
      "\u001b[0;32m<ipython-input-329-4b34d4057ced>\u001b[0m in \u001b[0;36m_backward_layer\u001b[0;34m(self, dH, layerO, yH)\u001b[0m\n\u001b[1;32m     61\u001b[0m         \u001b[0myH\u001b[0m \u001b[0;34m=\u001b[0m \u001b[0mself\u001b[0m\u001b[0;34m.\u001b[0m\u001b[0mabsorb_bias\u001b[0m\u001b[0;34m(\u001b[0m\u001b[0myH\u001b[0m\u001b[0;34m)\u001b[0m\u001b[0;34m\u001b[0m\u001b[0m\n\u001b[1;32m     62\u001b[0m \u001b[0;34m\u001b[0m\u001b[0m\n\u001b[0;32m---> 63\u001b[0;31m         \u001b[0mdelta\u001b[0m \u001b[0;34m=\u001b[0m \u001b[0mdH\u001b[0m \u001b[0;34m*\u001b[0m \u001b[0mlayerO\u001b[0m\u001b[0;34m.\u001b[0m\u001b[0mT\u001b[0m \u001b[0;34m*\u001b[0m \u001b[0myO\u001b[0m \u001b[0;34m*\u001b[0m \u001b[0myO\u001b[0m\u001b[0;34m\u001b[0m\u001b[0m\n\u001b[0m\u001b[1;32m     64\u001b[0m         \u001b[0mweights_var\u001b[0m \u001b[0;34m=\u001b[0m \u001b[0;34m(\u001b[0m\u001b[0;36m1\u001b[0m \u001b[0;34m/\u001b[0m \u001b[0myO\u001b[0m\u001b[0;34m.\u001b[0m\u001b[0mshape\u001b[0m\u001b[0;34m[\u001b[0m\u001b[0;36m0\u001b[0m\u001b[0;34m]\u001b[0m\u001b[0;34m)\u001b[0m \u001b[0;34m*\u001b[0m \u001b[0mnp\u001b[0m\u001b[0;34m.\u001b[0m\u001b[0mdot\u001b[0m\u001b[0;34m(\u001b[0m\u001b[0mdelta\u001b[0m\u001b[0;34m[\u001b[0m\u001b[0;34m:\u001b[0m\u001b[0;34m,\u001b[0m \u001b[0;34m:\u001b[0m\u001b[0;34m-\u001b[0m\u001b[0;36m1\u001b[0m\u001b[0;34m]\u001b[0m\u001b[0;34m.\u001b[0m\u001b[0mT\u001b[0m\u001b[0;34m,\u001b[0m \u001b[0myH\u001b[0m\u001b[0;34m)\u001b[0m\u001b[0;34m\u001b[0m\u001b[0m\n\u001b[1;32m     65\u001b[0m         \u001b[0;32mreturn\u001b[0m \u001b[0mdelta\u001b[0m\u001b[0;34m,\u001b[0m \u001b[0mweights_var\u001b[0m\u001b[0;34m\u001b[0m\u001b[0m\n",
      "\u001b[0;31mValueError\u001b[0m: operands could not be broadcast together with shapes (100,11) (10,11) "
     ]
    }
   ],
   "source": [
    "dh1, wv1 = mnn._backward_layer(dh2, mnn.layers[1], lforwards[1])"
   ]
  },
  {
   "cell_type": "code",
   "execution_count": 342,
   "metadata": {},
   "outputs": [
    {
     "ename": "ValueError",
     "evalue": "operands could not be broadcast together with shapes (100,11) (10,11) ",
     "output_type": "error",
     "traceback": [
      "\u001b[0;31m---------------------------------------------------------------------------\u001b[0m",
      "\u001b[0;31mValueError\u001b[0m                                Traceback (most recent call last)",
      "\u001b[0;32m<ipython-input-342-f539fcec983f>\u001b[0m in \u001b[0;36m<module>\u001b[0;34m\u001b[0m\n\u001b[1;32m      3\u001b[0m \u001b[0myH\u001b[0m \u001b[0;34m=\u001b[0m \u001b[0mmnn\u001b[0m\u001b[0;34m.\u001b[0m\u001b[0mabsorb_bias\u001b[0m\u001b[0;34m(\u001b[0m\u001b[0myH\u001b[0m\u001b[0;34m)\u001b[0m\u001b[0;34m\u001b[0m\u001b[0m\n\u001b[1;32m      4\u001b[0m \u001b[0;34m\u001b[0m\u001b[0m\n\u001b[0;32m----> 5\u001b[0;31m \u001b[0mdelta\u001b[0m \u001b[0;34m=\u001b[0m \u001b[0mdh2\u001b[0m \u001b[0;34m*\u001b[0m \u001b[0mmnn\u001b[0m\u001b[0;34m.\u001b[0m\u001b[0mlayers\u001b[0m\u001b[0;34m[\u001b[0m\u001b[0;36m1\u001b[0m\u001b[0;34m]\u001b[0m\u001b[0;34m.\u001b[0m\u001b[0mT\u001b[0m \u001b[0;34m*\u001b[0m \u001b[0myO\u001b[0m \u001b[0;34m*\u001b[0m \u001b[0myO\u001b[0m\u001b[0;34m\u001b[0m\u001b[0m\n\u001b[0m\u001b[1;32m      6\u001b[0m \u001b[0mweights_var\u001b[0m \u001b[0;34m=\u001b[0m \u001b[0;34m(\u001b[0m\u001b[0;36m1\u001b[0m \u001b[0;34m/\u001b[0m \u001b[0myO\u001b[0m\u001b[0;34m.\u001b[0m\u001b[0mshape\u001b[0m\u001b[0;34m[\u001b[0m\u001b[0;36m0\u001b[0m\u001b[0;34m]\u001b[0m\u001b[0;34m)\u001b[0m \u001b[0;34m*\u001b[0m \u001b[0mnp\u001b[0m\u001b[0;34m.\u001b[0m\u001b[0mdot\u001b[0m\u001b[0;34m(\u001b[0m\u001b[0mdelta\u001b[0m\u001b[0;34m[\u001b[0m\u001b[0;34m:\u001b[0m\u001b[0;34m,\u001b[0m \u001b[0;34m:\u001b[0m\u001b[0;34m-\u001b[0m\u001b[0;36m1\u001b[0m\u001b[0;34m]\u001b[0m\u001b[0;34m.\u001b[0m\u001b[0mT\u001b[0m\u001b[0;34m,\u001b[0m \u001b[0myH\u001b[0m\u001b[0;34m)\u001b[0m\u001b[0;34m\u001b[0m\u001b[0m\n\u001b[1;32m      7\u001b[0m \u001b[0;32mreturn\u001b[0m \u001b[0mdelta\u001b[0m\u001b[0;34m,\u001b[0m \u001b[0mweights_var\u001b[0m\u001b[0;34m\u001b[0m\u001b[0m\n",
      "\u001b[0;31mValueError\u001b[0m: operands could not be broadcast together with shapes (100,11) (10,11) "
     ]
    }
   ],
   "source": [
    "yH = lforwards[1]\n",
    "yO = mnn._forward_layer(mnn.layers[1], yH)\n",
    "yH = mnn.absorb_bias(yH)\n",
    "\n",
    "delta = dh2 * mnn.layers[1].T * yO * yO\n",
    "weights_var = (1 / yO.shape[0]) * np.dot(delta[:, :-1].T, yH)\n",
    "return delta, weights_var"
   ]
  },
  {
   "cell_type": "code",
   "execution_count": null,
   "metadata": {},
   "outputs": [],
   "source": []
  },
  {
   "cell_type": "code",
   "execution_count": 344,
   "metadata": {},
   "outputs": [],
   "source": [
    "LAYERS = mnn.layers\n",
    "FORWARDS = lforwards"
   ]
  },
  {
   "cell_type": "code",
   "execution_count": 346,
   "metadata": {},
   "outputs": [
    {
     "data": {
      "text/plain": [
       "[(3, 10), (11, 10), (11, 1)]"
      ]
     },
     "execution_count": 346,
     "metadata": {},
     "output_type": "execute_result"
    }
   ],
   "source": [
    "[s.shape for s in LAYERS]"
   ]
  },
  {
   "cell_type": "code",
   "execution_count": 347,
   "metadata": {},
   "outputs": [
    {
     "data": {
      "text/plain": [
       "[(100, 2), (100, 10), (100, 10), (100, 1)]"
      ]
     },
     "execution_count": 347,
     "metadata": {},
     "output_type": "execute_result"
    }
   ],
   "source": [
    "[s.shape for s in FORWARDS]"
   ]
  },
  {
   "cell_type": "code",
   "execution_count": 348,
   "metadata": {},
   "outputs": [
    {
     "data": {
      "text/plain": [
       "['H1', 'H2', 'O']"
      ]
     },
     "execution_count": 348,
     "metadata": {},
     "output_type": "execute_result"
    }
   ],
   "source": [
    "[\"H1\", \"H2\", \"O\"]"
   ]
  },
  {
   "cell_type": "code",
   "execution_count": 393,
   "metadata": {},
   "outputs": [
    {
     "data": {
      "text/plain": [
       "(100, 1)"
      ]
     },
     "execution_count": 393,
     "metadata": {},
     "output_type": "execute_result"
    }
   ],
   "source": [
    "deltaO = (FORWARDS[-1] - ytrue) * FORWARDS[-1] * (1 - FORWARDS[-1])\n",
    "deltaO.shape"
   ]
  },
  {
   "cell_type": "code",
   "execution_count": 394,
   "metadata": {},
   "outputs": [
    {
     "data": {
      "text/plain": [
       "(1, 10)"
      ]
     },
     "execution_count": 394,
     "metadata": {},
     "output_type": "execute_result"
    }
   ],
   "source": [
    "wvO = (1 / m) * np.dot(deltaO.T, FORWARDS[-2])\n",
    "wvO.shape"
   ]
  },
  {
   "cell_type": "code",
   "execution_count": 407,
   "metadata": {},
   "outputs": [
    {
     "data": {
      "text/plain": [
       "(100, 11)"
      ]
     },
     "execution_count": 407,
     "metadata": {},
     "output_type": "execute_result"
    }
   ],
   "source": [
    "deltaH2 = deltaO * LAYERS[-1].T * mnn.absorb_bias(FORWARDS[-2]) * (1 - mnn.absorb_bias(FORWARDS[-2]))\n",
    "deltaH2.shape"
   ]
  },
  {
   "cell_type": "code",
   "execution_count": 408,
   "metadata": {},
   "outputs": [
    {
     "data": {
      "text/plain": [
       "(10, 10)"
      ]
     },
     "execution_count": 408,
     "metadata": {},
     "output_type": "execute_result"
    }
   ],
   "source": [
    "wvH2 = (1/m) * np.dot(deltaH2[:, :-1].T, FORWARDS[-3])\n",
    "wvH2.shape"
   ]
  },
  {
   "cell_type": "code",
   "execution_count": 409,
   "metadata": {},
   "outputs": [],
   "source": [
    "deltaH1 = np.dot(deltaH2[:, :-1], LAYERS[-2].T) * mnn.absorb_bias(FORWARDS[-3]) * (1 - mnn.absorb_bias(FORWARDS[-3]))"
   ]
  },
  {
   "cell_type": "code",
   "execution_count": 410,
   "metadata": {},
   "outputs": [
    {
     "data": {
      "text/plain": [
       "(100, 11)"
      ]
     },
     "execution_count": 410,
     "metadata": {},
     "output_type": "execute_result"
    }
   ],
   "source": [
    "deltaH1.shape"
   ]
  },
  {
   "cell_type": "code",
   "execution_count": 411,
   "metadata": {},
   "outputs": [],
   "source": [
    "wv1 = (1/m) * np.dot(deltaH1[:, :-1].T, FORWARDS[-4])"
   ]
  },
  {
   "cell_type": "code",
   "execution_count": 413,
   "metadata": {},
   "outputs": [
    {
     "data": {
      "text/plain": [
       "(10, 2)"
      ]
     },
     "execution_count": 413,
     "metadata": {},
     "output_type": "execute_result"
    }
   ],
   "source": [
    "wv1.shape"
   ]
  },
  {
   "cell_type": "code",
   "execution_count": 415,
   "metadata": {},
   "outputs": [
    {
     "data": {
      "text/plain": [
       "(100, 11)"
      ]
     },
     "execution_count": 415,
     "metadata": {},
     "output_type": "execute_result"
    }
   ],
   "source": [
    "np.dot(deltaO, LAYERS[-1].T).shape"
   ]
  },
  {
   "cell_type": "code",
   "execution_count": 439,
   "metadata": {},
   "outputs": [],
   "source": [
    "deltaO = (FORWARDS[-1] - ytrue) * FORWARDS[-1] * (1 - FORWARDS[-1])\n",
    "wvO = (1 / m) * np.dot(deltaO.T, FORWARDS[-2])\n",
    "\n",
    "deltaH2 = np.dot(deltaO, LAYERS[-1].T) * mnn.absorb_bias(FORWARDS[-2]) * (1 - mnn.absorb_bias(FORWARDS[-2]))\n",
    "wvH2 = (1/m) * np.dot(deltaH2[:, :-1].T, FORWARDS[-3])\n",
    "\n",
    "deltaH1 = np.dot(deltaH2[:, :-1], LAYERS[-2].T) * mnn.absorb_bias(FORWARDS[-3]) * (1 - mnn.absorb_bias(FORWARDS[-3]))\n",
    "wv1 = (1/m) * np.dot(deltaH1[:, :-1].T, FORWARDS[-4])"
   ]
  },
  {
   "cell_type": "code",
   "execution_count": 427,
   "metadata": {},
   "outputs": [
    {
     "data": {
      "text/plain": [
       "[(3, 10), (11, 10), (11, 1)]"
      ]
     },
     "execution_count": 427,
     "metadata": {},
     "output_type": "execute_result"
    }
   ],
   "source": [
    "[s.shape for s in LAYERS]"
   ]
  },
  {
   "cell_type": "code",
   "execution_count": 454,
   "metadata": {},
   "outputs": [
    {
     "name": "stdout",
     "output_type": "stream",
     "text": [
      "0\n",
      "1\n"
     ]
    }
   ],
   "source": [
    "dh_j = do = (FORWARDS[-1] - ytrue) * FORWARDS[-1] * (1 - FORWARDS[-1])\n",
    "wvO = (1 / m) * np.dot(deltaO.T, FORWARDS[-2])\n",
    "\n",
    "dhs = [do]<\n",
    "wvs = [wvO]\n",
    "\n",
    "for i in range(2):\n",
    "    print(i)\n",
    "    if i > 0:\n",
    "        dh_j = dh_j[:, :-1]\n",
    "    dh_i = np.dot(dh_j, LAYERS[-i-1].T) * mnn.absorb_bias(FORWARDS[-i - 2]) * (1 - mnn.absorb_bias(FORWARDS[-i -2]))\n",
    "    wv_i = (1/m) * np.dot(dh_i[:, :-1].T, FORWARDS[-i - 3])\n",
    "    dh_j = dh_i\n",
    "    \n",
    "    dhs.append(dh_j)\n",
    "    wvs.append(wv_i)"
   ]
  },
  {
   "cell_type": "code",
   "execution_count": 455,
   "metadata": {},
   "outputs": [
    {
     "data": {
      "text/plain": [
       "[(1, 10), (10, 10), (10, 2)]"
      ]
     },
     "execution_count": 455,
     "metadata": {},
     "output_type": "execute_result"
    }
   ],
   "source": [
    "[s.shape for s in wvs]"
   ]
  },
  {
   "cell_type": "code",
   "execution_count": 29,
   "metadata": {},
   "outputs": [],
   "source": [
    "import matplotlib.pyplot as plt\n",
    "import numpy as np\n",
    "import tqdm\n",
    "from sklearn.datasets import make_blobs\n",
    "\n",
    "\n",
    "class Maths:\n",
    "    @staticmethod\n",
    "    def he_initialize(shape):\n",
    "        he = np.random.normal(loc=0, scale=np.sqrt(1 / shape[0]))\n",
    "        return he * np.random.randn(*shape)\n",
    "\n",
    "    @staticmethod\n",
    "    def set_bias_as_weight(shape):\n",
    "        return shape[0] + 1, shape[1]\n",
    "\n",
    "    @staticmethod\n",
    "    def add_bias(vector):\n",
    "        return np.hstack([vector, np.ones((vector.shape[0], 1))])\n",
    "\n",
    "    @staticmethod\n",
    "    def sigmoid(z):\n",
    "        return 1 / (1 + np.exp(-z))\n",
    "\n",
    "\n",
    "\n",
    "class NeuralNet:\n",
    "    \n",
    "    def __init__(self, layers, **hyperparams):\n",
    "        self.m = Maths()\n",
    "        self.layers_sizes = [self.m.set_bias_as_weight(sh) for sh in layers]\n",
    "        self.layers = self.initialize_layer_weights()\n",
    "        self.lr = hyperparams.get(\"lr\", 0.01)\n",
    "        \n",
    "    def initialize_layer_weights(self):\n",
    "        layers = []\n",
    "        for size in self.layers_sizes:\n",
    "            layers.append(self.m.he_initialize(size))\n",
    "        return layers\n",
    "\n",
    "    def _forward_layer(self, layer, v):\n",
    "        return self.m.sigmoid(np.dot(self.m.add_bias(v), layer))\n",
    "\n",
    "    def get_layer_forwards(self, x):\n",
    "        layer_forwards = [x]\n",
    "        for layer in self.layers:\n",
    "            x = self._forward_layer(layer, x)\n",
    "            layer_forwards.append(x)\n",
    "        return layer_forwards\n",
    "    \n",
    "    def backward(self, x, ytrue):\n",
    "        m = x.shape[0]\n",
    "        forwards = self.get_layer_forwards(x)\n",
    "        \n",
    "        # Output Layer Error\n",
    "        d = (forwards[-1] - ytrue) * forwards[-1] * (1 - forwards[-1])\n",
    "        wv = (1 / m) * np.dot(d.T, self.m.add_bias(forwards[-2]))\n",
    "        \n",
    "        ds = [d]\n",
    "        wvs = [wv.T]\n",
    "        \n",
    "        for l in range(len(self.layers) - 1):\n",
    "            d = np.dot(d, self.layers[-l - 1].T) * \\\n",
    "                   self.m.add_bias(forwards[-l - 2]) * \\\n",
    "                   (1 - self.m.add_bias(forwards[-l - 2]))\n",
    "            d = d[:, :-1]\n",
    "            wv = (1/m) * np.dot(d.T, self.m.add_bias(forwards[-l - 3]))\n",
    "            ds.insert(0, d)\n",
    "            wvs.insert(0, wv.T)\n",
    "        return wvs\n",
    "    \n",
    "    def infer(self, x):\n",
    "        for layer in self.layers:\n",
    "            x = self._forward_layer(layer, x)\n",
    "        return x\n",
    "    \n",
    "    def train(self, x, y, epochs, batch_size):\n",
    "        y = y.reshape(-1, 1)\n",
    "        m = x.shape[0]\n",
    "        n_batches = int(np.floor(m / batch_size))\n",
    "        rem_batch_size = m - n_batches * batch_size\n",
    "        \n",
    "        for _ in tqdm.tqdm(range(epochs)):\n",
    "            batched_weights = []\n",
    "            new_weights = []\n",
    "            accumulated_weights = [0] * len(self.layers)\n",
    "            \n",
    "            for n in range(n_batches):    \n",
    "                x_ = x[n * batch_size: (n + 1)* batch_size]\n",
    "                y_ = y[n * batch_size: (n + 1) * batch_size]\n",
    "\n",
    "                wvs = self.backward(x_, y_)\n",
    "                batched_weights.append(wvs)\n",
    "            \n",
    "            # Sum all weights variations for each batch\n",
    "            for i in range(0, len(batched_weights)):\n",
    "                for j in  range(len(batched_weights[i])):\n",
    "                    accumulated_weights[j] = accumulated_weights[j] + batched_weights[i][j]\n",
    "            \n",
    "\n",
    "            for weigths, wv in zip(self.layers, accumulated_weights):\n",
    "                weigths = weigths - self.lr * wv\n",
    "                new_weights.append(weigths)\n",
    "            self.layers = new_weights\n",
    "        return self.layers\n",
    "    "
   ]
  },
  {
   "cell_type": "code",
   "execution_count": 30,
   "metadata": {},
   "outputs": [],
   "source": [
    "nn = NeuralNet(\n",
    "    layers=(\n",
    "        (2, 30),\n",
    "        (30, 30),\n",
    "        (30, 1)\n",
    "    )\n",
    ")"
   ]
  },
  {
   "cell_type": "code",
   "execution_count": 31,
   "metadata": {},
   "outputs": [
    {
     "data": {
      "image/png": "[encoded data removed]",
      "text/plain": [
       "<Figure size 432x288 with 1 Axes>"
      ]
     },
     "metadata": {
      "needs_background": "light"
     },
     "output_type": "display_data"
    }
   ],
   "source": [
    "X, y = make_blobs(10000, centers=2, n_features=2, random_state=10)\n",
    "plt.scatter(X[:, 0], X[:, 1], c=y)\n",
    "plt.show()"
   ]
  },
  {
   "cell_type": "code",
   "execution_count": 32,
   "metadata": {},
   "outputs": [
    {
     "name": "stderr",
     "output_type": "stream",
     "text": [
      "100%|██████████| 100/100 [00:03<00:00, 28.46it/s]\n"
     ]
    }
   ],
   "source": [
    "_ = nn.train(X, y, 100, 64)"
   ]
  },
  {
   "cell_type": "code",
   "execution_count": 34,
   "metadata": {},
   "outputs": [],
   "source": [
    "ypred = nn.infer(X)"
   ]
  },
  {
   "cell_type": "code",
   "execution_count": 35,
   "metadata": {},
   "outputs": [
    {
     "data": {
      "text/plain": [
       "1.0"
      ]
     },
     "execution_count": 35,
     "metadata": {},
     "output_type": "execute_result"
    }
   ],
   "source": [
    "(np.around(ypred) == y.reshape(-1,1)).mean()"
   ]
  },
  {
   "cell_type": "code",
   "execution_count": 36,
   "metadata": {},
   "outputs": [
    {
     "data": {
      "text/plain": [
       "array([[0.93563895],\n",
       "       [0.05106023],\n",
       "       [0.96260922],\n",
       "       ...,\n",
       "       [0.05403756],\n",
       "       [0.0534268 ],\n",
       "       [0.05266552]])"
      ]
     },
     "execution_count": 36,
     "metadata": {},
     "output_type": "execute_result"
    }
   ],
   "source": [
    "ypred"
   ]
  },
  {
   "cell_type": "code",
   "execution_count": null,
   "metadata": {},
   "outputs": [],
   "source": []
  }
 ],
 "metadata": {
  "kernelspec": {
   "display_name": "nnenv",
   "language": "python",
   "name": "nnenv"
  },
  "language_info": {
   "codemirror_mode": {
    "name": "ipython",
    "version": 3
   },
   "file_extension": ".py",
   "mimetype": "text/x-python",
   "name": "python",
   "nbconvert_exporter": "python",
   "pygments_lexer": "ipython3",
   "version": "3.6.3"
  }
 },
 "nbformat": 4,
 "nbformat_minor": 4
}
