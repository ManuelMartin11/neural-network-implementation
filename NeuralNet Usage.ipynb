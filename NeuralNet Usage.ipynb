{
 "cells": [
  {
   "cell_type": "markdown",
   "metadata": {},
   "source": [
    "## My Neural Network Implementation"
   ]
  },
  {
   "cell_type": "markdown",
   "metadata": {},
   "source": [
    "**Currently supported**:\n",
    "- *HE* weights initialization\n",
    "- Multiple *Dense* Layers\n",
    "- *Sigmoid* Activation Function\n",
    "- *Mini-Batch Gradient Descent*\n",
    "- MSE Error function\n",
    "\n",
    "**Backlog**:\n",
    "- Agnostic Error and Activation Functions\n",
    "- *Gradient checking*\n",
    "- Validation set evaluation during training\n",
    "- History containing epochs-related changes on validation error and other attributes\n",
    "- Input data validation\n",
    "- Automatic differentiation/backpropagation for different Error and Activation Functions\n",
    "- *Stochastic Batch Gradient Descent*\n",
    "- Dropout\n",
    "- Early Stopping\n",
    "- Different Initialization methods (*Xavier, Standard*)\n",
    "- *RNN* and *LSTM* Layers"
   ]
  },
  {
   "cell_type": "code",
   "execution_count": 1,
   "metadata": {},
   "outputs": [],
   "source": [
    "import matplotlib.pyplot as plt\n",
    "import numpy as np\n",
    "from sklearn.datasets import make_blobs\n",
    "\n",
    "from neuralnet import NeuralNet"
   ]
  },
  {
   "cell_type": "markdown",
   "metadata": {},
   "source": [
    "### Get Data"
   ]
  },
  {
   "cell_type": "code",
   "execution_count": 2,
   "metadata": {},
   "outputs": [
    {
     "data": {
      "image/png": "[encoded data removed]",
      "text/plain": [
       "<Figure size 432x288 with 1 Axes>"
      ]
     },
     "metadata": {
      "needs_background": "light"
     },
     "output_type": "display_data"
    }
   ],
   "source": [
    "X, y = make_blobs(100000, centers=2, n_features=2, random_state=11)\n",
    "plt.scatter(X[:, 0], X[:, 1], c=y)\n",
    "plt.grid(True)\n",
    "plt.show()"
   ]
  },
  {
   "cell_type": "markdown",
   "metadata": {},
   "source": [
    "### Define Dense Hidden Layers Architecture"
   ]
  },
  {
   "cell_type": "code",
   "execution_count": 3,
   "metadata": {},
   "outputs": [],
   "source": [
    "dense_layers = [\n",
    "    (2, 100),\n",
    "    (100, 100),\n",
    "    (100, 1)\n",
    "]\n",
    "nn = NeuralNet(layer_shapes=dense_layers)"
   ]
  },
  {
   "cell_type": "markdown",
   "metadata": {},
   "source": [
    "### Split Train and Test set and optimize the neural network weights"
   ]
  },
  {
   "cell_type": "code",
   "execution_count": 4,
   "metadata": {},
   "outputs": [],
   "source": [
    "from sklearn.model_selection import train_test_split\n",
    "Xtrain, Xtest, Ytrain, Ytest = train_test_split(X, y, test_size=0.33, random_state=10)"
   ]
  },
  {
   "cell_type": "code",
   "execution_count": 5,
   "metadata": {},
   "outputs": [
    {
     "name": "stderr",
     "output_type": "stream",
     "text": [
      "100%|██████████| 1047/1047 [00:00<00:00, 2100.13it/s]\n",
      "100%|██████████| 1047/1047 [00:00<00:00, 1377.67it/s]\n",
      "100%|██████████| 1047/1047 [00:00<00:00, 1541.03it/s]\n"
     ]
    }
   ],
   "source": [
    "nn.train(Xtrain, Ytrain, 3, 64)"
   ]
  },
  {
   "cell_type": "markdown",
   "metadata": {},
   "source": [
    "### Evaluate Precision on Test Set"
   ]
  },
  {
   "cell_type": "code",
   "execution_count": 7,
   "metadata": {},
   "outputs": [],
   "source": [
    "forwards = nn.compute_forward_propagation(Xtest)\n",
    "ypred = np.around(forwards[-1])\n",
    "precision = (ypred == Ytest.reshape(-1,1)).mean()\n",
    "print(f\"Precission: {round(precision, 2) * 100}%\")"
   ]
  },
  {
   "cell_type": "markdown",
   "metadata": {},
   "source": [
    "### Evaluate Precision on Train Set"
   ]
  },
  {
   "cell_type": "code",
   "execution_count": 10,
   "metadata": {},
   "outputs": [
    {
     "name": "stdout",
     "output_type": "stream",
     "text": [
      "Precission: 100.0%\n"
     ]
    }
   ],
   "source": [
    "train_forwards = nn.compute_forward_propagation(Xtrain)\n",
    "ytrain_pred = np.around(train_forwards[-1])\n",
    "precision = (ytrain_pred == Ytrain.reshape(-1,1)).mean()\n",
    "print(f\"Precission: {round(precision, 2) * 100}%\")"
   ]
  }
 ],
 "metadata": {
  "file_extension": ".py",
  "kernelspec": {
   "display_name": "Python 3.6.3 64-bit ('nnvenv': venv)",
   "language": "python",
   "name": "python36364bitnnvenvvenvcf2216e1453b4d6dbc7d5410640ed9cb"
  },
  "language_info": {
   "codemirror_mode": {
    "name": "ipython",
    "version": 3
   },
   "file_extension": ".py",
   "mimetype": "text/x-python",
   "name": "python",
   "nbconvert_exporter": "python",
   "pygments_lexer": "ipython3",
   "version": "3.6.3"
  },
  "mimetype": "text/x-python",
  "name": "python",
  "npconvert_exporter": "python",
  "pygments_lexer": "ipython3",
  "version": 3
 },
 "nbformat": 4,
 "nbformat_minor": 4
}
